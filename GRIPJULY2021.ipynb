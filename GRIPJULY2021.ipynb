{
 "cells": [
  {
   "cell_type": "markdown",
   "metadata": {},
   "source": [
    "# UTKARSH RASTOGI"
   ]
  },
  {
   "cell_type": "markdown",
   "metadata": {
    "id": "nLuFD4mbMiNf"
   },
   "source": [
    "### Importing necessary Libraries"
   ]
  },
  {
   "cell_type": "code",
   "execution_count": 1,
   "metadata": {
    "id": "FYm1p1pHMgqW"
   },
   "outputs": [],
   "source": [
    "import pandas as pd\n",
    "from sklearn.model_selection import train_test_split\n",
    "from matplotlib import pyplot as plt\n",
    "%matplotlib inline"
   ]
  },
  {
   "cell_type": "markdown",
   "metadata": {
    "id": "lb_O_pk0M92u"
   },
   "source": [
    "### Importing the dataset"
   ]
  },
  {
   "cell_type": "code",
   "execution_count": 2,
   "metadata": {
    "colab": {
     "base_uri": "https://localhost:8080/",
     "height": 203
    },
    "executionInfo": {
     "elapsed": 526,
     "status": "ok",
     "timestamp": 1622562133369,
     "user": {
      "displayName": "Adarsh Goswami",
      "photoUrl": "",
      "userId": "06745394348978882810"
     },
     "user_tz": -330
    },
    "id": "iXQubPVdNBde",
    "outputId": "73e64cb1-0c70-47e7-e792-36381a3acb2d"
   },
   "outputs": [
    {
     "data": {
      "text/html": [
       "<div>\n",
       "<style scoped>\n",
       "    .dataframe tbody tr th:only-of-type {\n",
       "        vertical-align: middle;\n",
       "    }\n",
       "\n",
       "    .dataframe tbody tr th {\n",
       "        vertical-align: top;\n",
       "    }\n",
       "\n",
       "    .dataframe thead th {\n",
       "        text-align: right;\n",
       "    }\n",
       "</style>\n",
       "<table border=\"1\" class=\"dataframe\">\n",
       "  <thead>\n",
       "    <tr style=\"text-align: right;\">\n",
       "      <th></th>\n",
       "      <th>Hours</th>\n",
       "      <th>Scores</th>\n",
       "    </tr>\n",
       "  </thead>\n",
       "  <tbody>\n",
       "    <tr>\n",
       "      <th>0</th>\n",
       "      <td>2.5</td>\n",
       "      <td>21</td>\n",
       "    </tr>\n",
       "    <tr>\n",
       "      <th>1</th>\n",
       "      <td>5.1</td>\n",
       "      <td>47</td>\n",
       "    </tr>\n",
       "    <tr>\n",
       "      <th>2</th>\n",
       "      <td>3.2</td>\n",
       "      <td>27</td>\n",
       "    </tr>\n",
       "    <tr>\n",
       "      <th>3</th>\n",
       "      <td>8.5</td>\n",
       "      <td>75</td>\n",
       "    </tr>\n",
       "    <tr>\n",
       "      <th>4</th>\n",
       "      <td>3.5</td>\n",
       "      <td>30</td>\n",
       "    </tr>\n",
       "  </tbody>\n",
       "</table>\n",
       "</div>"
      ],
      "text/plain": [
       "   Hours  Scores\n",
       "0    2.5      21\n",
       "1    5.1      47\n",
       "2    3.2      27\n",
       "3    8.5      75\n",
       "4    3.5      30"
      ]
     },
     "execution_count": 2,
     "metadata": {},
     "output_type": "execute_result"
    }
   ],
   "source": [
    "#importing the dataset using Pandas\n",
    "df = pd.read_csv(r'https://raw.githubusercontent.com/AdiPersonalWorks/Random/master/student_scores%20-%20student_scores.csv')\n",
    "df.head()"
   ]
  },
  {
   "cell_type": "markdown",
   "metadata": {
    "id": "1dXBbxh4NQfC"
   },
   "source": [
    "### Visualising the structure of data"
   ]
  },
  {
   "cell_type": "code",
   "execution_count": 3,
   "metadata": {
    "colab": {
     "base_uri": "https://localhost:8080/",
     "height": 238
    },
    "executionInfo": {
     "elapsed": 965,
     "status": "ok",
     "timestamp": 1622561687409,
     "user": {
      "displayName": "Adarsh Goswami",
      "photoUrl": "",
      "userId": "06745394348978882810"
     },
     "user_tz": -330
    },
    "id": "z4mFUY33NVP8",
    "outputId": "6e6d684b-61cb-47ac-e89f-bb7bdf1b35a0"
   },
   "outputs": [
    {
     "data": {
      "image/png": "[encoded data removed]",
      "text/plain": [
       "<Figure size 432x288 with 1 Axes>"
      ]
     },
     "metadata": {
      "needs_background": "light"
     },
     "output_type": "display_data"
    }
   ],
   "source": [
    "df.plot(x='Hours', y='Scores', style='p')  \n",
    "plt.title('Hours vs Percentage Scored')  \n",
    "plt.xlabel('Hours Studied')  \n",
    "plt.ylabel('Percentage Scored')  \n",
    "plt.show()"
   ]
  },
  {
   "cell_type": "markdown",
   "metadata": {
    "id": "YHj8MW8SNszO"
   },
   "source": [
    "### We can easily see that the data is linearly arranged, therefore we use Linear Regression to make predictions"
   ]
  },
  {
   "cell_type": "code",
   "execution_count": 4,
   "metadata": {
    "id": "8PiFxPppN2a5"
   },
   "outputs": [],
   "source": [
    "#importing the regression model\n",
    "from sklearn.linear_model import LinearRegression"
   ]
  },
  {
   "cell_type": "markdown",
   "metadata": {
    "id": "hVRX4V0pPZKI"
   },
   "source": [
    "### Creating the training and test set"
   ]
  },
  {
   "cell_type": "code",
   "execution_count": 5,
   "metadata": {
    "id": "KAJYg7UdPc6x"
   },
   "outputs": [],
   "source": [
    "X = df.iloc[:,:-1]\n",
    "y = df.iloc[:,1]\n",
    " \n",
    "X_train,X_test,y_train,y_test = train_test_split(X,y,random_state=0)"
   ]
  },
  {
   "cell_type": "markdown",
   "metadata": {
    "id": "mbMf_v7qONye"
   },
   "source": [
    "### Initialising and training the model"
   ]
  },
  {
   "cell_type": "code",
   "execution_count": 6,
   "metadata": {
    "colab": {
     "base_uri": "https://localhost:8080/"
    },
    "executionInfo": {
     "elapsed": 823,
     "status": "ok",
     "timestamp": 1622562320225,
     "user": {
      "displayName": "Adarsh Goswami",
      "photoUrl": "",
      "userId": "06745394348978882810"
     },
     "user_tz": -330
    },
    "id": "kVbMASv_OeOr",
    "outputId": "a75e8c7a-363e-4fee-8e9f-c1b3cfff1c2e"
   },
   "outputs": [
    {
     "data": {
      "text/plain": [
       "LinearRegression()"
      ]
     },
     "execution_count": 6,
     "metadata": {},
     "output_type": "execute_result"
    }
   ],
   "source": [
    "clf = LinearRegression()\n",
    "clf.fit(X_train,y_train)"
   ]
  },
  {
   "cell_type": "markdown",
   "metadata": {
    "id": "Z-4aeqXeQG0o"
   },
   "source": [
    "### Visualising the fitted model regression line"
   ]
  },
  {
   "cell_type": "code",
   "execution_count": 7,
   "metadata": {
    "colab": {
     "base_uri": "https://localhost:8080/",
     "height": 222
    },
    "executionInfo": {
     "elapsed": 433,
     "status": "ok",
     "timestamp": 1622562541933,
     "user": {
      "displayName": "Adarsh Goswami",
      "photoUrl": "",
      "userId": "06745394348978882810"
     },
     "user_tz": -330
    },
    "id": "QRi_3OWUQLv3",
    "outputId": "b2c9acf1-0565-4e6b-bddb-c4b6414d7412"
   },
   "outputs": [
    {
     "data": {
      "image/png": "[encoded data removed]",
      "text/plain": [
       "<Figure size 432x288 with 1 Axes>"
      ]
     },
     "metadata": {
      "needs_background": "light"
     },
     "output_type": "display_data"
    }
   ],
   "source": [
    " \n",
    "line = clf.coef_*X_train + clf.intercept_\n",
    " \n",
    "plt.scatter(X_train,y_train)\n",
    "plt.plot(X_train,line)\n",
    "plt.show()"
   ]
  },
  {
   "cell_type": "markdown",
   "metadata": {
    "id": "owNfQ_d2Q929"
   },
   "source": [
    "### Testing the prediction score of our model"
   ]
  },
  {
   "cell_type": "code",
   "execution_count": 8,
   "metadata": {
    "colab": {
     "base_uri": "https://localhost:8080/"
    },
    "executionInfo": {
     "elapsed": 1396,
     "status": "ok",
     "timestamp": 1622562726792,
     "user": {
      "displayName": "Adarsh Goswami",
      "photoUrl": "",
      "userId": "06745394348978882810"
     },
     "user_tz": -330
    },
    "id": "FK84mdJoREBo",
    "outputId": "1c6414d7-c3ae-4af7-db87-8803f3f23c15"
   },
   "outputs": [
    {
     "name": "stdout",
     "output_type": "stream",
     "text": [
      "Model accuracy : 93.7%\n"
     ]
    }
   ],
   "source": [
    "print(\"Model accuracy :\",str(round(clf.score(X_test,y_test),3)*100)+\"%\")"
   ]
  }
 ],
 "metadata": {
  "colab": {
   "authorship_tag": "ABX9TyNgCCfUk7Jxb7Wy+nHxQeF1",
   "collapsed_sections": [],
   "name": "Task1GRIPjun.ipynb",
   "provenance": []
  },
  "kernelspec": {
   "display_name": "Python 3 (ipykernel)",
   "language": "python",
   "name": "python3"
  },
  "language_info": {
   "codemirror_mode": {
    "name": "ipython",
    "version": 3
   },
   "file_extension": ".py",
   "mimetype": "text/x-python",
   "name": "python",
   "nbconvert_exporter": "python",
   "pygments_lexer": "ipython3",
   "version": "3.9.6"
  }
 },
 "nbformat": 4,
 "nbformat_minor": 1
}
